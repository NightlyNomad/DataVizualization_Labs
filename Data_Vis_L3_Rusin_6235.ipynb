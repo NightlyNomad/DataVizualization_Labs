{
  "cells": [
    {
      "source": [
        "## Продолжим?"
      ],
      "cell_type": "markdown",
      "metadata": {
        "id": "0_Aq1gIuc7jn"
      }
    },
    {
      "cell_type": "code",
      "source": [
        "from google.colab import drive\n",
        "drive.mount('/content/drive')"
      ],
      "metadata": {
        "colab": {
          "base_uri": "https://localhost:8080/"
        },
        "id": "2YIoKnuXhX28",
        "outputId": "e1b81464-7624-4692-8a34-7770328742c1"
      },
      "execution_count": 1,
      "outputs": [
        {
          "output_type": "stream",
          "name": "stdout",
          "text": [
            "Mounted at /content/drive\n"
          ]
        }
      ]
    },
    {
      "cell_type": "code",
      "source": [
        "!unzip  /content/drive/MyDrive/Datasets/mercedes-used-car-listing.zip -d data"
      ],
      "metadata": {
        "colab": {
          "base_uri": "https://localhost:8080/"
        },
        "id": "uLxaDpXxeZUP",
        "outputId": "be1e76f5-69d3-408b-a3e2-867b33918b1b"
      },
      "execution_count": 2,
      "outputs": [
        {
          "output_type": "stream",
          "name": "stdout",
          "text": [
            "Archive:  /content/drive/MyDrive/Datasets/mercedes-used-car-listing.zip\n",
            "  inflating: data/merc.csv           \n"
          ]
        }
      ]
    },
    {
      "cell_type": "code",
      "execution_count": 3,
      "metadata": {
        "name": "import",
        "id": "_5vXEo8jc7jy"
      },
      "outputs": [],
      "source": [
        "from plotnine import *\n",
        "from plotnine.data import *\n",
        "\n",
        "import numpy as np\n",
        "import pandas as pd"
      ]
    },
    {
      "cell_type": "code",
      "execution_count": 4,
      "metadata": {
        "name": "settings",
        "tags": [
          "remove_input"
        ],
        "id": "r4VFzpqFc7j0"
      },
      "outputs": [],
      "source": [
        "import warnings\n",
        "pd.set_option(\"display.max_rows\", 10)\n",
        "\n",
        "from matplotlib import rcParams\n",
        "rcParams.update({\"figure.max_open_warning\": 0,\n",
        "                 \"savefig.bbox\": \"tight\"})\n",
        "\n",
        "theme_set(theme_gray(base_size=12))"
      ]
    },
    {
      "cell_type": "code",
      "source": [
        "mpg = pd.read_csv('data/merc.csv')"
      ],
      "metadata": {
        "id": "IORpTYRPhjfG"
      },
      "execution_count": 5,
      "outputs": []
    },
    {
      "cell_type": "code",
      "execution_count": 6,
      "metadata": {
        "id": "mhhH7ZJic7j1",
        "colab": {
          "base_uri": "https://localhost:8080/",
          "height": 424
        },
        "outputId": "61beb7f2-c21e-4628-df63-b23ee19a8478"
      },
      "outputs": [
        {
          "output_type": "execute_result",
          "data": {
            "text/html": [
              "\n",
              "  <div id=\"df-9f040540-7c08-45fd-b421-a89e1551fc2a\">\n",
              "    <div class=\"colab-df-container\">\n",
              "      <div>\n",
              "<style scoped>\n",
              "    .dataframe tbody tr th:only-of-type {\n",
              "        vertical-align: middle;\n",
              "    }\n",
              "\n",
              "    .dataframe tbody tr th {\n",
              "        vertical-align: top;\n",
              "    }\n",
              "\n",
              "    .dataframe thead th {\n",
              "        text-align: right;\n",
              "    }\n",
              "</style>\n",
              "<table border=\"1\" class=\"dataframe\">\n",
              "  <thead>\n",
              "    <tr style=\"text-align: right;\">\n",
              "      <th></th>\n",
              "      <th>model</th>\n",
              "      <th>year</th>\n",
              "      <th>price</th>\n",
              "      <th>transmission</th>\n",
              "      <th>mileage</th>\n",
              "      <th>fuelType</th>\n",
              "      <th>tax</th>\n",
              "      <th>mpg</th>\n",
              "      <th>engineSize</th>\n",
              "    </tr>\n",
              "  </thead>\n",
              "  <tbody>\n",
              "    <tr>\n",
              "      <th>0</th>\n",
              "      <td>SLK</td>\n",
              "      <td>2005</td>\n",
              "      <td>5200</td>\n",
              "      <td>Automatic</td>\n",
              "      <td>63000</td>\n",
              "      <td>Petrol</td>\n",
              "      <td>325</td>\n",
              "      <td>32.1</td>\n",
              "      <td>1.8</td>\n",
              "    </tr>\n",
              "    <tr>\n",
              "      <th>1</th>\n",
              "      <td>S Class</td>\n",
              "      <td>2017</td>\n",
              "      <td>34948</td>\n",
              "      <td>Automatic</td>\n",
              "      <td>27000</td>\n",
              "      <td>Hybrid</td>\n",
              "      <td>20</td>\n",
              "      <td>61.4</td>\n",
              "      <td>2.1</td>\n",
              "    </tr>\n",
              "    <tr>\n",
              "      <th>2</th>\n",
              "      <td>SL CLASS</td>\n",
              "      <td>2016</td>\n",
              "      <td>49948</td>\n",
              "      <td>Automatic</td>\n",
              "      <td>6200</td>\n",
              "      <td>Petrol</td>\n",
              "      <td>555</td>\n",
              "      <td>28.0</td>\n",
              "      <td>5.5</td>\n",
              "    </tr>\n",
              "    <tr>\n",
              "      <th>3</th>\n",
              "      <td>G Class</td>\n",
              "      <td>2016</td>\n",
              "      <td>61948</td>\n",
              "      <td>Automatic</td>\n",
              "      <td>16000</td>\n",
              "      <td>Petrol</td>\n",
              "      <td>325</td>\n",
              "      <td>30.4</td>\n",
              "      <td>4.0</td>\n",
              "    </tr>\n",
              "    <tr>\n",
              "      <th>4</th>\n",
              "      <td>G Class</td>\n",
              "      <td>2016</td>\n",
              "      <td>73948</td>\n",
              "      <td>Automatic</td>\n",
              "      <td>4000</td>\n",
              "      <td>Petrol</td>\n",
              "      <td>325</td>\n",
              "      <td>30.1</td>\n",
              "      <td>4.0</td>\n",
              "    </tr>\n",
              "    <tr>\n",
              "      <th>...</th>\n",
              "      <td>...</td>\n",
              "      <td>...</td>\n",
              "      <td>...</td>\n",
              "      <td>...</td>\n",
              "      <td>...</td>\n",
              "      <td>...</td>\n",
              "      <td>...</td>\n",
              "      <td>...</td>\n",
              "      <td>...</td>\n",
              "    </tr>\n",
              "    <tr>\n",
              "      <th>13114</th>\n",
              "      <td>C Class</td>\n",
              "      <td>2020</td>\n",
              "      <td>35999</td>\n",
              "      <td>Automatic</td>\n",
              "      <td>500</td>\n",
              "      <td>Diesel</td>\n",
              "      <td>145</td>\n",
              "      <td>55.4</td>\n",
              "      <td>2.0</td>\n",
              "    </tr>\n",
              "    <tr>\n",
              "      <th>13115</th>\n",
              "      <td>B Class</td>\n",
              "      <td>2020</td>\n",
              "      <td>24699</td>\n",
              "      <td>Automatic</td>\n",
              "      <td>2500</td>\n",
              "      <td>Diesel</td>\n",
              "      <td>145</td>\n",
              "      <td>55.4</td>\n",
              "      <td>2.0</td>\n",
              "    </tr>\n",
              "    <tr>\n",
              "      <th>13116</th>\n",
              "      <td>GLC Class</td>\n",
              "      <td>2019</td>\n",
              "      <td>30999</td>\n",
              "      <td>Automatic</td>\n",
              "      <td>11612</td>\n",
              "      <td>Diesel</td>\n",
              "      <td>145</td>\n",
              "      <td>41.5</td>\n",
              "      <td>2.1</td>\n",
              "    </tr>\n",
              "    <tr>\n",
              "      <th>13117</th>\n",
              "      <td>CLS Class</td>\n",
              "      <td>2019</td>\n",
              "      <td>37990</td>\n",
              "      <td>Automatic</td>\n",
              "      <td>2426</td>\n",
              "      <td>Diesel</td>\n",
              "      <td>145</td>\n",
              "      <td>45.6</td>\n",
              "      <td>2.0</td>\n",
              "    </tr>\n",
              "    <tr>\n",
              "      <th>13118</th>\n",
              "      <td>S Class</td>\n",
              "      <td>2019</td>\n",
              "      <td>54999</td>\n",
              "      <td>Automatic</td>\n",
              "      <td>2075</td>\n",
              "      <td>Diesel</td>\n",
              "      <td>145</td>\n",
              "      <td>52.3</td>\n",
              "      <td>2.9</td>\n",
              "    </tr>\n",
              "  </tbody>\n",
              "</table>\n",
              "<p>13119 rows × 9 columns</p>\n",
              "</div>\n",
              "      <button class=\"colab-df-convert\" onclick=\"convertToInteractive('df-9f040540-7c08-45fd-b421-a89e1551fc2a')\"\n",
              "              title=\"Convert this dataframe to an interactive table.\"\n",
              "              style=\"display:none;\">\n",
              "        \n",
              "  <svg xmlns=\"http://www.w3.org/2000/svg\" height=\"24px\"viewBox=\"0 0 24 24\"\n",
              "       width=\"24px\">\n",
              "    <path d=\"M0 0h24v24H0V0z\" fill=\"none\"/>\n",
              "    <path d=\"M18.56 5.44l.94 2.06.94-2.06 2.06-.94-2.06-.94-.94-2.06-.94 2.06-2.06.94zm-11 1L8.5 8.5l.94-2.06 2.06-.94-2.06-.94L8.5 2.5l-.94 2.06-2.06.94zm10 10l.94 2.06.94-2.06 2.06-.94-2.06-.94-.94-2.06-.94 2.06-2.06.94z\"/><path d=\"M17.41 7.96l-1.37-1.37c-.4-.4-.92-.59-1.43-.59-.52 0-1.04.2-1.43.59L10.3 9.45l-7.72 7.72c-.78.78-.78 2.05 0 2.83L4 21.41c.39.39.9.59 1.41.59.51 0 1.02-.2 1.41-.59l7.78-7.78 2.81-2.81c.8-.78.8-2.07 0-2.86zM5.41 20L4 18.59l7.72-7.72 1.47 1.35L5.41 20z\"/>\n",
              "  </svg>\n",
              "      </button>\n",
              "      \n",
              "  <style>\n",
              "    .colab-df-container {\n",
              "      display:flex;\n",
              "      flex-wrap:wrap;\n",
              "      gap: 12px;\n",
              "    }\n",
              "\n",
              "    .colab-df-convert {\n",
              "      background-color: #E8F0FE;\n",
              "      border: none;\n",
              "      border-radius: 50%;\n",
              "      cursor: pointer;\n",
              "      display: none;\n",
              "      fill: #1967D2;\n",
              "      height: 32px;\n",
              "      padding: 0 0 0 0;\n",
              "      width: 32px;\n",
              "    }\n",
              "\n",
              "    .colab-df-convert:hover {\n",
              "      background-color: #E2EBFA;\n",
              "      box-shadow: 0px 1px 2px rgba(60, 64, 67, 0.3), 0px 1px 3px 1px rgba(60, 64, 67, 0.15);\n",
              "      fill: #174EA6;\n",
              "    }\n",
              "\n",
              "    [theme=dark] .colab-df-convert {\n",
              "      background-color: #3B4455;\n",
              "      fill: #D2E3FC;\n",
              "    }\n",
              "\n",
              "    [theme=dark] .colab-df-convert:hover {\n",
              "      background-color: #434B5C;\n",
              "      box-shadow: 0px 1px 3px 1px rgba(0, 0, 0, 0.15);\n",
              "      filter: drop-shadow(0px 1px 2px rgba(0, 0, 0, 0.3));\n",
              "      fill: #FFFFFF;\n",
              "    }\n",
              "  </style>\n",
              "\n",
              "      <script>\n",
              "        const buttonEl =\n",
              "          document.querySelector('#df-9f040540-7c08-45fd-b421-a89e1551fc2a button.colab-df-convert');\n",
              "        buttonEl.style.display =\n",
              "          google.colab.kernel.accessAllowed ? 'block' : 'none';\n",
              "\n",
              "        async function convertToInteractive(key) {\n",
              "          const element = document.querySelector('#df-9f040540-7c08-45fd-b421-a89e1551fc2a');\n",
              "          const dataTable =\n",
              "            await google.colab.kernel.invokeFunction('convertToInteractive',\n",
              "                                                     [key], {});\n",
              "          if (!dataTable) return;\n",
              "\n",
              "          const docLinkHtml = 'Like what you see? Visit the ' +\n",
              "            '<a target=\"_blank\" href=https://colab.research.google.com/notebooks/data_table.ipynb>data table notebook</a>'\n",
              "            + ' to learn more about interactive tables.';\n",
              "          element.innerHTML = '';\n",
              "          dataTable['output_type'] = 'display_data';\n",
              "          await google.colab.output.renderOutput(dataTable, element);\n",
              "          const docLink = document.createElement('div');\n",
              "          docLink.innerHTML = docLinkHtml;\n",
              "          element.appendChild(docLink);\n",
              "        }\n",
              "      </script>\n",
              "    </div>\n",
              "  </div>\n",
              "  "
            ],
            "text/plain": [
              "            model  year  price transmission  ...  fuelType  tax   mpg  engineSize\n",
              "0             SLK  2005   5200    Automatic  ...    Petrol  325  32.1         1.8\n",
              "1         S Class  2017  34948    Automatic  ...    Hybrid   20  61.4         2.1\n",
              "2        SL CLASS  2016  49948    Automatic  ...    Petrol  555  28.0         5.5\n",
              "3         G Class  2016  61948    Automatic  ...    Petrol  325  30.4         4.0\n",
              "4         G Class  2016  73948    Automatic  ...    Petrol  325  30.1         4.0\n",
              "...           ...   ...    ...          ...  ...       ...  ...   ...         ...\n",
              "13114     C Class  2020  35999    Automatic  ...    Diesel  145  55.4         2.0\n",
              "13115     B Class  2020  24699    Automatic  ...    Diesel  145  55.4         2.0\n",
              "13116   GLC Class  2019  30999    Automatic  ...    Diesel  145  41.5         2.1\n",
              "13117   CLS Class  2019  37990    Automatic  ...    Diesel  145  45.6         2.0\n",
              "13118     S Class  2019  54999    Automatic  ...    Diesel  145  52.3         2.9\n",
              "\n",
              "[13119 rows x 9 columns]"
            ]
          },
          "metadata": {},
          "execution_count": 6
        }
      ],
      "source": [
        "mpg"
      ]
    },
    {
      "source": [
        "## Начнём с простого, со всевозможных подписей: к графикам, к осям, к значениям. Подписи добавляются с использованием функции labs(). Вот, например, заголовок графика:"
      ],
      "cell_type": "markdown",
      "metadata": {
        "id": "noY27teUc7j1"
      }
    },
    {
      "cell_type": "code",
      "execution_count": null,
      "metadata": {
        "message": false,
        "id": "jaTtgXNFc7j2"
      },
      "outputs": [],
      "source": [
        "ggplot(mpg, aes(\"displ\", \"hwy\")) +\\\n",
        "geom_point(aes(color=\"class\")) +\\\n",
        "geom_smooth(se=False) +\\\n",
        "labs(title=\"Расход топлива растёт с увеличением объёма двигателя\")"
      ]
    },
    {
      "cell_type": "markdown",
      "metadata": {
        "id": "wjGZFSX1c7j3"
      },
      "source": [
        "## Основной целью заголовка является обобщение основного результата наблюдения. Избегайте заголовков, которые просто описывают графики, например,  \"Диаграмма зависимости расхода топлива от объёма двигателя\"."
      ]
    },
    {
      "source": [
        "## Также вы можете использовать labs() для задания названий осей и легенд. Как правило, хорошей идеей будет заменить формальные обозначения категорий на более развёрнутое их описание с указанием размерности (при необходимости)."
      ],
      "cell_type": "markdown",
      "metadata": {
        "id": "7H5bn4WIc7j4"
      }
    },
    {
      "cell_type": "code",
      "execution_count": null,
      "metadata": {
        "message": false,
        "id": "iRT6TweEc7j5"
      },
      "outputs": [],
      "source": [
        "ggplot(mpg, aes(\"displ\", \"hwy\")) +\\\n",
        "geom_point(aes(colour=\"class\")) +\\\n",
        "geom_smooth(se=False) +\\\n",
        "labs(x=\"Рабочий объём двигателя (в литрах)\",\n",
        "     y=\"Расход топлива (в милях на галлон)\",\n",
        "     colour=\"Тип автомобиля\")"
      ]
    },
    {
      "cell_type": "markdown",
      "metadata": {
        "id": "Oj4Z7Fhyc7j6"
      },
      "source": [
        "## Можно даже добавить математическое выражение вместо текстовых строк с помощью LaTeX:"
      ]
    },
    {
      "cell_type": "code",
      "execution_count": null,
      "metadata": {
        "id": "fmZQ-LWFc7j7"
      },
      "outputs": [],
      "source": [
        "from matplotlib import rc\n",
        "rc('text', usetex=True)\n",
        "\n",
        "df = pd.DataFrame({\"x\": np.random.uniform(size=10),\n",
        "                   \"y\": np.random.uniform(size=10)})\n",
        "\n",
        "ggplot(df, aes(\"x\", \"y\")) +\\\n",
        "geom_point() +\\\n",
        "labs(x=\"$\\\\sum_{i = 1}^n{x_i^2}$\",\n",
        "     y=\"$\\\\alpha + \\\\beta + \\\\frac{\\\\delta}{\\\\theta}$\")"
      ]
    },
    {
      "source": [
        "## Не забудьте потом отключить эту опцию."
      ],
      "cell_type": "markdown",
      "metadata": {
        "id": "_NUNYdczc7j8"
      }
    },
    {
      "cell_type": "code",
      "execution_count": null,
      "metadata": {
        "tags": [
          "remove_input"
        ],
        "id": "Wz-aaol3c7j8"
      },
      "outputs": [],
      "source": [
        "rc('text', usetex=False)"
      ]
    },
    {
      "source": [
        "### Создайте график на основе датафрейма mpg с заданными вручную заголовком, и осями x и y."
      ],
      "cell_type": "markdown",
      "metadata": {
        "id": "GKaTqoOyc7j9"
      }
    },
    {
      "cell_type": "code",
      "execution_count": 24,
      "metadata": {
        "id": "YJz6qLVLc7j9",
        "colab": {
          "base_uri": "https://localhost:8080/",
          "height": 532
        },
        "outputId": "b5bf3611-935b-4d16-b093-c63dc170a658"
      },
      "outputs": [
        {
          "output_type": "stream",
          "name": "stderr",
          "text": [
            "/usr/local/lib/python3.7/dist-packages/plotnine/utils.py:1246: FutureWarning: is_categorical is deprecated and will be removed in a future version.  Use is_categorical_dtype instead\n",
            "  if pdtypes.is_categorical(arr):\n"
          ]
        },
        {
          "output_type": "display_data",
          "data": {
            "image/png": "[encoded data removed]",
            "text/plain": [
              "<Figure size 640x480 with 1 Axes>"
            ]
          },
          "metadata": {}
        },
        {
          "output_type": "execute_result",
          "data": {
            "text/plain": [
              "<ggplot: (8786714372797)>"
            ]
          },
          "metadata": {},
          "execution_count": 24
        }
      ],
      "source": [
        "ggplot(mpg, aes(\"engineSize\", \"tax\")) +\\\n",
        "geom_point(aes(colour=\"fuelType\")) +\\\n",
        "geom_smooth(se=False) +\\\n",
        "labs(title='Рост налога от объема(вредности) двигателя',\n",
        "     x=\"Рабочий объём двигателя (в литрах)\",\n",
        "     y=\"Размер налога\",\n",
        "     colour=\"Тип топлива\")"
      ]
    },
    {
      "source": [
        "### Для одного из графиков, сформированных в прошлой лабораторной по собственным данным, придумайте название и подписи к осям."
      ],
      "cell_type": "markdown",
      "metadata": {
        "id": "aUISa3SXc7j-"
      }
    },
    {
      "cell_type": "code",
      "execution_count": 25,
      "metadata": {
        "id": "Dyo8ywm7c7j-",
        "colab": {
          "base_uri": "https://localhost:8080/",
          "height": 533
        },
        "outputId": "62942f4d-199a-4c11-ff70-60de49fdaa97"
      },
      "outputs": [
        {
          "output_type": "stream",
          "name": "stderr",
          "text": [
            "/usr/local/lib/python3.7/dist-packages/plotnine/utils.py:1246: FutureWarning: is_categorical is deprecated and will be removed in a future version.  Use is_categorical_dtype instead\n",
            "  if pdtypes.is_categorical(arr):\n"
          ]
        },
        {
          "output_type": "display_data",
          "data": {
            "image/png": "[encoded data removed]",
            "text/plain": [
              "<Figure size 640x480 with 1 Axes>"
            ]
          },
          "metadata": {}
        },
        {
          "output_type": "execute_result",
          "data": {
            "text/plain": [
              "<ggplot: (8786713509449)>"
            ]
          },
          "metadata": {},
          "execution_count": 25
        }
      ],
      "source": [
        "ggplot(mpg) +\\\n",
        "geom_point(mapping = aes(x='engineSize', y='fuelType', size = 'tax', color = 'mileage')) +\\\n",
        "labs(title = 'Разница налога с ключевыми характеристиками: объем, топливо, пробег',\n",
        "     x = 'Объем двигателя',\n",
        "     y = 'Тип топлива',\n",
        "     color = 'Пробег')"
      ]
    },
    {
      "cell_type": "markdown",
      "metadata": {
        "id": "9x1lUke6c7j-"
      },
      "source": [
        "## Кроме основных элементов графика, можно подписывать и отдельные наблюдения. Сначала попробуем использовать geom_text(). У него все те же свойства, что у geom_point(), но добавляется свойство label.\n",
        "## В качестве источника данных создадим датафрейм, в который поместим самую эффективную по расходу топлива марку автомобиля для каждого класса."
      ]
    },
    {
      "cell_type": "code",
      "execution_count": null,
      "metadata": {
        "id": "2pNtP9KDc7j_"
      },
      "outputs": [],
      "source": [
        "best_in_class = mpg\\\n",
        ".sort_values(by=\"hwy\", ascending=False)\\\n",
        ".groupby(\"class\")\\\n",
        ".first()\n",
        "\n",
        "ggplot(mpg, aes(\"displ\", \"hwy\")) +\\\n",
        "geom_point(aes(colour=\"class\")) +\\\n",
        "geom_text(aes(label=\"model\"), data=best_in_class)"
      ]
    },
    {
      "cell_type": "markdown",
      "metadata": {
        "id": "5tHJB8qAc7j_"
      },
      "source": [
        "## Выглядит не очень. Текст перекрывает как сам себя, так и точки. Немного улучшить ситуацию можно заменив geom_text() на geom_label(), заодно добавив прозрачности и небольшой сдвиг по y."
      ]
    },
    {
      "cell_type": "code",
      "execution_count": null,
      "metadata": {
        "id": "srZel2G9c7kA"
      },
      "outputs": [],
      "source": [
        "ggplot(mpg, aes(\"displ\", \"hwy\")) +\\\n",
        "geom_point(aes(colour=\"class\")) +\\\n",
        "geom_label(aes(label=\"model\"), data=best_in_class, nudge_y=2, alpha=0.5)"
      ]
    },
    {
      "cell_type": "markdown",
      "metadata": {
        "id": "oxveHPIcc7kB"
      },
      "source": [
        "## Стало лучше, но в верхнем левом углу надписи всё ещё перекрывают друг друга. Устранить это перекрытие, используя одинаковое смещение для всех текстовых блоков, не получится. К счастью, есть переменная adjust_text."
      ]
    },
    {
      "cell_type": "code",
      "execution_count": null,
      "metadata": {
        "id": "BOlW-0tOc7kB"
      },
      "outputs": [],
      "source": [
        "ggplot(mpg, aes(\"displ\", \"hwy\")) +\\\n",
        "geom_point(aes(colour=\"class\")) +\\\n",
        "geom_point(data=best_in_class, fill='none') +\\\n",
        "geom_label(aes(label=\"model\"), data=best_in_class, adjust_text={\n",
        "    'expand_points': (1.5, 1.5),\n",
        "    'arrowprops': {\n",
        "        'arrowstyle': '-'\n",
        "    }})"
      ]
    },
    {
      "source": [
        "## Обратите внимание, что мы нарисовали большие чёрные точки поверх выделенных."
      ],
      "cell_type": "markdown",
      "metadata": {
        "id": "Ldh-FcsVc7kC"
      }
    },
    {
      "cell_type": "markdown",
      "metadata": {
        "id": "kJqoyUf0c7kC"
      },
      "source": [
        "## Вместо легенды иногда можно использовать тот же приём. Это не очень приятно выглядит на конкретном графике, но вообще может быть полезным."
      ]
    },
    {
      "cell_type": "code",
      "execution_count": null,
      "metadata": {
        "id": "CGsYe2wtc7kC"
      },
      "outputs": [],
      "source": [
        "class_avg = mpg\\\n",
        ".groupby(\"class\")[\"displ\",\"hwy\"].median()\\\n",
        ".reset_index()\n",
        "\n",
        "ggplot(mpg, aes(\"displ\", \"hwy\", colour=\"class\")) +\\\n",
        "geom_point() +\\\n",
        "geom_label(aes(label=\"class\"), data=class_avg, size=16, label_size=0, adjust_text={'expand_points': (0, 0)}) +\\\n",
        "geom_point() +\\\n",
        "theme(legend_position=\"none\")"
      ]
    },
    {
      "cell_type": "markdown",
      "metadata": {
        "id": "PEMC2Bmvc7kD"
      },
      "source": [
        "## На график можно добавить и простой фрагмент текста. Но для этого всё равно нужен будет DataFrame. "
      ]
    },
    {
      "cell_type": "code",
      "execution_count": null,
      "metadata": {
        "id": "yQbxT7_rc7kD"
      },
      "outputs": [],
      "source": [
        "label = pd.DataFrame({\"displ\": [mpg.displ.max()],\n",
        "                      \"hwy\": [mpg.hwy.max()],\n",
        "                      \"label\": \"Increasing engine size is \\nrelated to decreasing fuel economy.\"})\n",
        "\n",
        "ggplot(mpg, aes(\"displ\", \"hwy\")) +\\\n",
        "geom_point() +\\\n",
        "geom_text(aes(label=\"label\"), data=label, va=\"top\", ha=\"right\")"
      ]
    },
    {
      "cell_type": "markdown",
      "metadata": {
        "id": "Lt0O-yanc7kD"
      },
      "source": [
        "## Чтобы поместить текст в самый край нужно будет использовтаь `+np.Inf` и `-np.Inf`:"
      ]
    },
    {
      "cell_type": "code",
      "execution_count": null,
      "metadata": {
        "id": "2d2RqJ7gc7kD"
      },
      "outputs": [],
      "source": [
        "label = pd.DataFrame({\"displ\": [np.Inf],\n",
        "                      \"hwy\": [np.Inf],\n",
        "                      \"label\": \"Increasing engine size is \\nrelated to decreasing fuel economy.\"})\n",
        "\n",
        "ggplot(mpg, aes(\"displ\", \"hwy\")) +\\\n",
        "geom_point() +\\\n",
        "geom_text(aes(label=\"label\"), data=label, va=\"top\", ha=\"right\")"
      ]
    },
    {
      "cell_type": "markdown",
      "metadata": {
        "id": "z0SqQDOpc7kE"
      },
      "source": [
        "## Во всех этих примерах перенос слов между строками производился вручную с использованием `\"\\n\"`. Можно использовать функцию `fill` из модуля `textwrap`."
      ]
    },
    {
      "cell_type": "code",
      "execution_count": null,
      "metadata": {
        "id": "Uqm1ouDic7kE"
      },
      "outputs": [],
      "source": [
        "from textwrap import fill\n",
        "\n",
        "print(fill(\"Increasing engine size is related to decreasing fuel economy.\", width=40))"
      ]
    },
    {
      "cell_type": "markdown",
      "metadata": {
        "id": "xN2JyLDWc7kE"
      },
      "source": [
        "## Параметры `ha` и `va` определяют местоположение текста. Все девять вариантов – ниже."
      ]
    },
    {
      "cell_type": "code",
      "execution_count": 30,
      "metadata": {
        "tags": [
          "remove_input"
        ],
        "id": "AkMRstq7c7kE",
        "colab": {
          "base_uri": "https://localhost:8080/",
          "height": 479
        },
        "outputId": "af05aa04-26dc-4d79-8316-204f58f4d59f"
      },
      "outputs": [
        {
          "output_type": "stream",
          "name": "stderr",
          "text": [
            "/usr/local/lib/python3.7/dist-packages/plotnine/utils.py:1246: FutureWarning: is_categorical is deprecated and will be removed in a future version.  Use is_categorical_dtype instead\n",
            "  if pdtypes.is_categorical(arr):\n"
          ]
        },
        {
          "output_type": "display_data",
          "data": {
            "image/png": "[encoded data removed]",
            "text/plain": [
              "<Figure size 640x480 with 1 Axes>"
            ]
          },
          "metadata": {}
        },
        {
          "output_type": "execute_result",
          "data": {
            "text/plain": [
              "<ggplot: (8786714374433)>"
            ]
          },
          "metadata": {},
          "execution_count": 30
        }
      ],
      "source": [
        "from itertools import product\n",
        "\n",
        "has = [\"left\", \"center\", \"right\"]\n",
        "vas = [\"top\", \"center\", \"bottom\"]\n",
        "xs = [0, 0.5, 1]\n",
        "ys = [1, 0.5, 0]\n",
        "\n",
        "df = pd.DataFrame([{\"x\": xs[x],\n",
        "                    \"y\": ys[y],\n",
        "                    \"ha\": has[x],\n",
        "                    \"va\": vas[y],\n",
        "                    \"label\": f\"ha=\\\"{has[x]}\\\"\\nva=\\\"{vas[y]}\\\"\"}\n",
        "                   for x, y in product(range(3), repeat=2)])\n",
        "\n",
        "ggplot(df, aes(\"x\", \"y\")) +\\\n",
        "geom_point(colour=\"grey\", size=5) +\\\n",
        "geom_point(size=0.5, colour=\"red\") +\\\n",
        "geom_text(aes(label=\"label\", ha=\"ha\", va=\"va\")) +\\\n",
        "labs(x=None, y=None)"
      ]
    },
    {
      "source": [
        "### Используйте `geom_text()` с положением в бесконечности, чтобы поместить текст в каждый из четырёх углов графика"
      ],
      "cell_type": "markdown",
      "metadata": {
        "id": "WHYN37D9c7kF"
      }
    },
    {
      "cell_type": "code",
      "source": [
        "mpg.head(3)"
      ],
      "metadata": {
        "id": "BwlLiHQAmBl3"
      },
      "execution_count": null,
      "outputs": []
    },
    {
      "cell_type": "markdown",
      "source": [
        "Наверное есть какое-то элегантное решение, до которого я пока не дошел :("
      ],
      "metadata": {
        "id": "T5pRWBDiNE7H"
      }
    },
    {
      "cell_type": "code",
      "source": [
        "from numpy.core.numeric import Infinity\n",
        "from decimal import Decimal\n",
        "\n",
        "has = [\"left\", \"right\"]\n",
        "vas = [\"top\", \"bottom\"]\n",
        "xs = [-1, 1]\n",
        "ys = [1, -1]\n",
        "\n",
        "df = pd.DataFrame([{\"x\": xs[x],\n",
        "                    \"y\": ys[y],\n",
        "                    \"ha\": has[x],\n",
        "                    \"va\": vas[y],\n",
        "                    \"label\": f\"ha=\\\"{has[x]}\\\"\\nva=\\\"{vas[y]}\\\"\"}\n",
        "                   for x, y in product(range(2), repeat=2)])\n",
        "\n",
        "ggplot(df, aes(\"x\", \"y\")) +\\\n",
        "geom_point(colour=\"grey\", size=5) +\\\n",
        "geom_point(size=0.5, colour=\"red\") +\\\n",
        "geom_text(aes(label=\"label\", ha=\"ha\", va=\"va\")) +\\\n",
        "labs(x=None, y=None)"
      ],
      "metadata": {
        "colab": {
          "base_uri": "https://localhost:8080/",
          "height": 479
        },
        "id": "Hae2pq7IM74K",
        "outputId": "6b0f973f-29f5-4ee2-ca7f-47aa565b02be"
      },
      "execution_count": 38,
      "outputs": [
        {
          "output_type": "stream",
          "name": "stderr",
          "text": [
            "/usr/local/lib/python3.7/dist-packages/plotnine/utils.py:1246: FutureWarning: is_categorical is deprecated and will be removed in a future version.  Use is_categorical_dtype instead\n",
            "  if pdtypes.is_categorical(arr):\n"
          ]
        },
        {
          "output_type": "display_data",
          "data": {
            "image/png": "[encoded data removed]",
            "text/plain": [
              "<Figure size 640x480 with 1 Axes>"
            ]
          },
          "metadata": {}
        },
        {
          "output_type": "execute_result",
          "data": {
            "text/plain": [
              "<ggplot: (8786713171117)>"
            ]
          },
          "metadata": {},
          "execution_count": 38
        }
      ]
    },
    {
      "source": [
        "### Поэкспериментируйте, как `geom_text()` работает с панелями. Сможете добавить подпись в одну выбранную панель?"
      ],
      "cell_type": "markdown",
      "metadata": {
        "id": "8gn2LKOHc7kF"
      }
    },
    {
      "cell_type": "code",
      "execution_count": 77,
      "metadata": {
        "id": "UaDKVPabc7kG",
        "colab": {
          "base_uri": "https://localhost:8080/",
          "height": 490
        },
        "outputId": "4d071170-b100-4afd-d240-f59cbfa0fec8"
      },
      "outputs": [
        {
          "output_type": "display_data",
          "data": {
            "image/png": "[encoded data removed]",
            "text/plain": [
              "<Figure size 640x480 with 4 Axes>"
            ]
          },
          "metadata": {}
        },
        {
          "output_type": "execute_result",
          "data": {
            "text/plain": [
              "<ggplot: (8786711453209)>"
            ]
          },
          "metadata": {},
          "execution_count": 77
        }
      ],
      "source": [
        "ggplot(mpg) +\\\n",
        "geom_point(mapping=aes(x='tax', y='engineSize')) +\\\n",
        "facet_wrap('~ transmission') +\\\n",
        "geom_text(aes(x='100', y='50', label = '10'))"
      ]
    },
    {
      "source": [
        "### Используйте `geom_hline()` или `geom_vline()` для обозначения пороговых значений."
      ],
      "cell_type": "markdown",
      "metadata": {
        "id": "OfEY597cc7kG"
      }
    },
    {
      "cell_type": "code",
      "execution_count": 122,
      "metadata": {
        "id": "H4UkKpfWc7kG",
        "colab": {
          "base_uri": "https://localhost:8080/",
          "height": 468
        },
        "outputId": "2de2c8d7-07b8-46d9-b8e3-c61e123ee1e9"
      },
      "outputs": [
        {
          "output_type": "display_data",
          "data": {
            "image/png": "[encoded data removed]",
            "text/plain": [
              "<Figure size 640x480 with 1 Axes>"
            ]
          },
          "metadata": {}
        },
        {
          "output_type": "execute_result",
          "data": {
            "text/plain": [
              "<ggplot: (8786700641353)>"
            ]
          },
          "metadata": {},
          "execution_count": 122
        }
      ],
      "source": [
        "ggplot(mpg) +\\\n",
        "geom_point(mapping=aes(x='year', y='engineSize')) +\\\n",
        "geom_hline(\n",
        "  data = mpg,\n",
        "  yintercept = max(mpg.engineSize)\n",
        ")"
      ]
    },
    {
      "cell_type": "code",
      "source": [
        "mpg"
      ],
      "metadata": {
        "colab": {
          "base_uri": "https://localhost:8080/",
          "height": 424
        },
        "id": "TzCTHkwAjf8x",
        "outputId": "7f3217cb-8f2e-4c48-d88e-e161134a0a54"
      },
      "execution_count": 106,
      "outputs": [
        {
          "output_type": "execute_result",
          "data": {
            "text/html": [
              "\n",
              "  <div id=\"df-7978aba7-a473-46a7-b514-14a080a7aa81\">\n",
              "    <div class=\"colab-df-container\">\n",
              "      <div>\n",
              "<style scoped>\n",
              "    .dataframe tbody tr th:only-of-type {\n",
              "        vertical-align: middle;\n",
              "    }\n",
              "\n",
              "    .dataframe tbody tr th {\n",
              "        vertical-align: top;\n",
              "    }\n",
              "\n",
              "    .dataframe thead th {\n",
              "        text-align: right;\n",
              "    }\n",
              "</style>\n",
              "<table border=\"1\" class=\"dataframe\">\n",
              "  <thead>\n",
              "    <tr style=\"text-align: right;\">\n",
              "      <th></th>\n",
              "      <th>model</th>\n",
              "      <th>year</th>\n",
              "      <th>price</th>\n",
              "      <th>transmission</th>\n",
              "      <th>mileage</th>\n",
              "      <th>fuelType</th>\n",
              "      <th>tax</th>\n",
              "      <th>mpg</th>\n",
              "      <th>engineSize</th>\n",
              "    </tr>\n",
              "  </thead>\n",
              "  <tbody>\n",
              "    <tr>\n",
              "      <th>0</th>\n",
              "      <td>SLK</td>\n",
              "      <td>2005</td>\n",
              "      <td>5200</td>\n",
              "      <td>Automatic</td>\n",
              "      <td>63000</td>\n",
              "      <td>Petrol</td>\n",
              "      <td>325</td>\n",
              "      <td>32.1</td>\n",
              "      <td>1.8</td>\n",
              "    </tr>\n",
              "    <tr>\n",
              "      <th>1</th>\n",
              "      <td>S Class</td>\n",
              "      <td>2017</td>\n",
              "      <td>34948</td>\n",
              "      <td>Automatic</td>\n",
              "      <td>27000</td>\n",
              "      <td>Hybrid</td>\n",
              "      <td>20</td>\n",
              "      <td>61.4</td>\n",
              "      <td>2.1</td>\n",
              "    </tr>\n",
              "    <tr>\n",
              "      <th>2</th>\n",
              "      <td>SL CLASS</td>\n",
              "      <td>2016</td>\n",
              "      <td>49948</td>\n",
              "      <td>Automatic</td>\n",
              "      <td>6200</td>\n",
              "      <td>Petrol</td>\n",
              "      <td>555</td>\n",
              "      <td>28.0</td>\n",
              "      <td>5.5</td>\n",
              "    </tr>\n",
              "    <tr>\n",
              "      <th>3</th>\n",
              "      <td>G Class</td>\n",
              "      <td>2016</td>\n",
              "      <td>61948</td>\n",
              "      <td>Automatic</td>\n",
              "      <td>16000</td>\n",
              "      <td>Petrol</td>\n",
              "      <td>325</td>\n",
              "      <td>30.4</td>\n",
              "      <td>4.0</td>\n",
              "    </tr>\n",
              "    <tr>\n",
              "      <th>4</th>\n",
              "      <td>G Class</td>\n",
              "      <td>2016</td>\n",
              "      <td>73948</td>\n",
              "      <td>Automatic</td>\n",
              "      <td>4000</td>\n",
              "      <td>Petrol</td>\n",
              "      <td>325</td>\n",
              "      <td>30.1</td>\n",
              "      <td>4.0</td>\n",
              "    </tr>\n",
              "    <tr>\n",
              "      <th>...</th>\n",
              "      <td>...</td>\n",
              "      <td>...</td>\n",
              "      <td>...</td>\n",
              "      <td>...</td>\n",
              "      <td>...</td>\n",
              "      <td>...</td>\n",
              "      <td>...</td>\n",
              "      <td>...</td>\n",
              "      <td>...</td>\n",
              "    </tr>\n",
              "    <tr>\n",
              "      <th>13114</th>\n",
              "      <td>C Class</td>\n",
              "      <td>2020</td>\n",
              "      <td>35999</td>\n",
              "      <td>Automatic</td>\n",
              "      <td>500</td>\n",
              "      <td>Diesel</td>\n",
              "      <td>145</td>\n",
              "      <td>55.4</td>\n",
              "      <td>2.0</td>\n",
              "    </tr>\n",
              "    <tr>\n",
              "      <th>13115</th>\n",
              "      <td>B Class</td>\n",
              "      <td>2020</td>\n",
              "      <td>24699</td>\n",
              "      <td>Automatic</td>\n",
              "      <td>2500</td>\n",
              "      <td>Diesel</td>\n",
              "      <td>145</td>\n",
              "      <td>55.4</td>\n",
              "      <td>2.0</td>\n",
              "    </tr>\n",
              "    <tr>\n",
              "      <th>13116</th>\n",
              "      <td>GLC Class</td>\n",
              "      <td>2019</td>\n",
              "      <td>30999</td>\n",
              "      <td>Automatic</td>\n",
              "      <td>11612</td>\n",
              "      <td>Diesel</td>\n",
              "      <td>145</td>\n",
              "      <td>41.5</td>\n",
              "      <td>2.1</td>\n",
              "    </tr>\n",
              "    <tr>\n",
              "      <th>13117</th>\n",
              "      <td>CLS Class</td>\n",
              "      <td>2019</td>\n",
              "      <td>37990</td>\n",
              "      <td>Automatic</td>\n",
              "      <td>2426</td>\n",
              "      <td>Diesel</td>\n",
              "      <td>145</td>\n",
              "      <td>45.6</td>\n",
              "      <td>2.0</td>\n",
              "    </tr>\n",
              "    <tr>\n",
              "      <th>13118</th>\n",
              "      <td>S Class</td>\n",
              "      <td>2019</td>\n",
              "      <td>54999</td>\n",
              "      <td>Automatic</td>\n",
              "      <td>2075</td>\n",
              "      <td>Diesel</td>\n",
              "      <td>145</td>\n",
              "      <td>52.3</td>\n",
              "      <td>2.9</td>\n",
              "    </tr>\n",
              "  </tbody>\n",
              "</table>\n",
              "<p>13119 rows × 9 columns</p>\n",
              "</div>\n",
              "      <button class=\"colab-df-convert\" onclick=\"convertToInteractive('df-7978aba7-a473-46a7-b514-14a080a7aa81')\"\n",
              "              title=\"Convert this dataframe to an interactive table.\"\n",
              "              style=\"display:none;\">\n",
              "        \n",
              "  <svg xmlns=\"http://www.w3.org/2000/svg\" height=\"24px\"viewBox=\"0 0 24 24\"\n",
              "       width=\"24px\">\n",
              "    <path d=\"M0 0h24v24H0V0z\" fill=\"none\"/>\n",
              "    <path d=\"M18.56 5.44l.94 2.06.94-2.06 2.06-.94-2.06-.94-.94-2.06-.94 2.06-2.06.94zm-11 1L8.5 8.5l.94-2.06 2.06-.94-2.06-.94L8.5 2.5l-.94 2.06-2.06.94zm10 10l.94 2.06.94-2.06 2.06-.94-2.06-.94-.94-2.06-.94 2.06-2.06.94z\"/><path d=\"M17.41 7.96l-1.37-1.37c-.4-.4-.92-.59-1.43-.59-.52 0-1.04.2-1.43.59L10.3 9.45l-7.72 7.72c-.78.78-.78 2.05 0 2.83L4 21.41c.39.39.9.59 1.41.59.51 0 1.02-.2 1.41-.59l7.78-7.78 2.81-2.81c.8-.78.8-2.07 0-2.86zM5.41 20L4 18.59l7.72-7.72 1.47 1.35L5.41 20z\"/>\n",
              "  </svg>\n",
              "      </button>\n",
              "      \n",
              "  <style>\n",
              "    .colab-df-container {\n",
              "      display:flex;\n",
              "      flex-wrap:wrap;\n",
              "      gap: 12px;\n",
              "    }\n",
              "\n",
              "    .colab-df-convert {\n",
              "      background-color: #E8F0FE;\n",
              "      border: none;\n",
              "      border-radius: 50%;\n",
              "      cursor: pointer;\n",
              "      display: none;\n",
              "      fill: #1967D2;\n",
              "      height: 32px;\n",
              "      padding: 0 0 0 0;\n",
              "      width: 32px;\n",
              "    }\n",
              "\n",
              "    .colab-df-convert:hover {\n",
              "      background-color: #E2EBFA;\n",
              "      box-shadow: 0px 1px 2px rgba(60, 64, 67, 0.3), 0px 1px 3px 1px rgba(60, 64, 67, 0.15);\n",
              "      fill: #174EA6;\n",
              "    }\n",
              "\n",
              "    [theme=dark] .colab-df-convert {\n",
              "      background-color: #3B4455;\n",
              "      fill: #D2E3FC;\n",
              "    }\n",
              "\n",
              "    [theme=dark] .colab-df-convert:hover {\n",
              "      background-color: #434B5C;\n",
              "      box-shadow: 0px 1px 3px 1px rgba(0, 0, 0, 0.15);\n",
              "      filter: drop-shadow(0px 1px 2px rgba(0, 0, 0, 0.3));\n",
              "      fill: #FFFFFF;\n",
              "    }\n",
              "  </style>\n",
              "\n",
              "      <script>\n",
              "        const buttonEl =\n",
              "          document.querySelector('#df-7978aba7-a473-46a7-b514-14a080a7aa81 button.colab-df-convert');\n",
              "        buttonEl.style.display =\n",
              "          google.colab.kernel.accessAllowed ? 'block' : 'none';\n",
              "\n",
              "        async function convertToInteractive(key) {\n",
              "          const element = document.querySelector('#df-7978aba7-a473-46a7-b514-14a080a7aa81');\n",
              "          const dataTable =\n",
              "            await google.colab.kernel.invokeFunction('convertToInteractive',\n",
              "                                                     [key], {});\n",
              "          if (!dataTable) return;\n",
              "\n",
              "          const docLinkHtml = 'Like what you see? Visit the ' +\n",
              "            '<a target=\"_blank\" href=https://colab.research.google.com/notebooks/data_table.ipynb>data table notebook</a>'\n",
              "            + ' to learn more about interactive tables.';\n",
              "          element.innerHTML = '';\n",
              "          dataTable['output_type'] = 'display_data';\n",
              "          await google.colab.output.renderOutput(dataTable, element);\n",
              "          const docLink = document.createElement('div');\n",
              "          docLink.innerHTML = docLinkHtml;\n",
              "          element.appendChild(docLink);\n",
              "        }\n",
              "      </script>\n",
              "    </div>\n",
              "  </div>\n",
              "  "
            ],
            "text/plain": [
              "            model  year  price transmission  ...  fuelType  tax   mpg  engineSize\n",
              "0             SLK  2005   5200    Automatic  ...    Petrol  325  32.1         1.8\n",
              "1         S Class  2017  34948    Automatic  ...    Hybrid   20  61.4         2.1\n",
              "2        SL CLASS  2016  49948    Automatic  ...    Petrol  555  28.0         5.5\n",
              "3         G Class  2016  61948    Automatic  ...    Petrol  325  30.4         4.0\n",
              "4         G Class  2016  73948    Automatic  ...    Petrol  325  30.1         4.0\n",
              "...           ...   ...    ...          ...  ...       ...  ...   ...         ...\n",
              "13114     C Class  2020  35999    Automatic  ...    Diesel  145  55.4         2.0\n",
              "13115     B Class  2020  24699    Automatic  ...    Diesel  145  55.4         2.0\n",
              "13116   GLC Class  2019  30999    Automatic  ...    Diesel  145  41.5         2.1\n",
              "13117   CLS Class  2019  37990    Automatic  ...    Diesel  145  45.6         2.0\n",
              "13118     S Class  2019  54999    Automatic  ...    Diesel  145  52.3         2.9\n",
              "\n",
              "[13119 rows x 9 columns]"
            ]
          },
          "metadata": {},
          "execution_count": 106
        }
      ]
    },
    {
      "cell_type": "code",
      "source": [
        "ggplot(mpg) +\\\n",
        "geom_point(mapping=aes(x='price', y='tax')) +\\\n",
        "geom_vline(\n",
        "  data = mpg,\n",
        "  xintercept = min(mpg.price)\n",
        ")"
      ],
      "metadata": {
        "colab": {
          "base_uri": "https://localhost:8080/",
          "height": 470
        },
        "id": "BhN3xH9Sgk8c",
        "outputId": "ab7944e7-e72c-49ca-bbd3-929b6d525323"
      },
      "execution_count": 121,
      "outputs": [
        {
          "output_type": "display_data",
          "data": {
            "image/png": "[encoded data removed]",
            "text/plain": [
              "<Figure size 640x480 with 1 Axes>"
            ]
          },
          "metadata": {}
        },
        {
          "output_type": "execute_result",
          "data": {
            "text/plain": [
              "<ggplot: (8786700013633)>"
            ]
          },
          "metadata": {},
          "execution_count": 121
        }
      ]
    },
    {
      "source": [
        "### Используйте `geom_rect()`, чтобы нарисовать область интереса на графике."
      ],
      "cell_type": "markdown",
      "metadata": {
        "id": "_JShUsRFc7kG"
      }
    },
    {
      "cell_type": "code",
      "execution_count": 148,
      "metadata": {
        "id": "4dlZzPm6c7kG",
        "colab": {
          "base_uri": "https://localhost:8080/",
          "height": 470
        },
        "outputId": "b86e7a3d-4208-464e-f4c7-cae58517a21f"
      },
      "outputs": [
        {
          "output_type": "display_data",
          "data": {
            "image/png": "[encoded data removed]",
            "text/plain": [
              "<Figure size 640x480 with 1 Axes>"
            ]
          },
          "metadata": {}
        },
        {
          "output_type": "execute_result",
          "data": {
            "text/plain": [
              "<ggplot: (8786716907637)>"
            ]
          },
          "metadata": {},
          "execution_count": 148
        }
      ],
      "source": [
        "ggplot(mpg, aes(x='engineSize', y='tax')) +\\\n",
        "geom_point() +\\\n",
        "geom_rect(aes(xmin = '3', xmax = '5', ymin = '300', ymax = '500'), fill = '#ff0000', alpha = 0.7)"
      ]
    },
    {
      "source": [
        "### Используйте `geom_segment()`, чтобы нарисовать стрелку на графике."
      ],
      "cell_type": "markdown",
      "metadata": {
        "id": "xxfu-xA4c7kH"
      }
    },
    {
      "cell_type": "code",
      "source": [
        "type(max(mpg.tax))"
      ],
      "metadata": {
        "colab": {
          "base_uri": "https://localhost:8080/"
        },
        "id": "LplVVdo_BB-1",
        "outputId": "41f0eaf0-3213-48c7-fec7-32d66d3dabbe"
      },
      "execution_count": 12,
      "outputs": [
        {
          "output_type": "execute_result",
          "data": {
            "text/plain": [
              "int"
            ]
          },
          "metadata": {},
          "execution_count": 12
        }
      ]
    },
    {
      "cell_type": "code",
      "source": [
        "mpg"
      ],
      "metadata": {
        "colab": {
          "base_uri": "https://localhost:8080/",
          "height": 424
        },
        "id": "zbtAXx-gLfPg",
        "outputId": "8cb67d80-92fb-44e3-bea5-2f813e52d7fb"
      },
      "execution_count": 41,
      "outputs": [
        {
          "output_type": "execute_result",
          "data": {
            "text/html": [
              "\n",
              "  <div id=\"df-e3812590-63ac-4790-b2b1-356b255a509b\">\n",
              "    <div class=\"colab-df-container\">\n",
              "      <div>\n",
              "<style scoped>\n",
              "    .dataframe tbody tr th:only-of-type {\n",
              "        vertical-align: middle;\n",
              "    }\n",
              "\n",
              "    .dataframe tbody tr th {\n",
              "        vertical-align: top;\n",
              "    }\n",
              "\n",
              "    .dataframe thead th {\n",
              "        text-align: right;\n",
              "    }\n",
              "</style>\n",
              "<table border=\"1\" class=\"dataframe\">\n",
              "  <thead>\n",
              "    <tr style=\"text-align: right;\">\n",
              "      <th></th>\n",
              "      <th>model</th>\n",
              "      <th>year</th>\n",
              "      <th>price</th>\n",
              "      <th>transmission</th>\n",
              "      <th>mileage</th>\n",
              "      <th>fuelType</th>\n",
              "      <th>tax</th>\n",
              "      <th>mpg</th>\n",
              "      <th>engineSize</th>\n",
              "    </tr>\n",
              "  </thead>\n",
              "  <tbody>\n",
              "    <tr>\n",
              "      <th>0</th>\n",
              "      <td>SLK</td>\n",
              "      <td>2005</td>\n",
              "      <td>5200</td>\n",
              "      <td>Automatic</td>\n",
              "      <td>63000</td>\n",
              "      <td>Petrol</td>\n",
              "      <td>325</td>\n",
              "      <td>32.1</td>\n",
              "      <td>1.8</td>\n",
              "    </tr>\n",
              "    <tr>\n",
              "      <th>1</th>\n",
              "      <td>S Class</td>\n",
              "      <td>2017</td>\n",
              "      <td>34948</td>\n",
              "      <td>Automatic</td>\n",
              "      <td>27000</td>\n",
              "      <td>Hybrid</td>\n",
              "      <td>20</td>\n",
              "      <td>61.4</td>\n",
              "      <td>2.1</td>\n",
              "    </tr>\n",
              "    <tr>\n",
              "      <th>2</th>\n",
              "      <td>SL CLASS</td>\n",
              "      <td>2016</td>\n",
              "      <td>49948</td>\n",
              "      <td>Automatic</td>\n",
              "      <td>6200</td>\n",
              "      <td>Petrol</td>\n",
              "      <td>555</td>\n",
              "      <td>28.0</td>\n",
              "      <td>5.5</td>\n",
              "    </tr>\n",
              "    <tr>\n",
              "      <th>3</th>\n",
              "      <td>G Class</td>\n",
              "      <td>2016</td>\n",
              "      <td>61948</td>\n",
              "      <td>Automatic</td>\n",
              "      <td>16000</td>\n",
              "      <td>Petrol</td>\n",
              "      <td>325</td>\n",
              "      <td>30.4</td>\n",
              "      <td>4.0</td>\n",
              "    </tr>\n",
              "    <tr>\n",
              "      <th>4</th>\n",
              "      <td>G Class</td>\n",
              "      <td>2016</td>\n",
              "      <td>73948</td>\n",
              "      <td>Automatic</td>\n",
              "      <td>4000</td>\n",
              "      <td>Petrol</td>\n",
              "      <td>325</td>\n",
              "      <td>30.1</td>\n",
              "      <td>4.0</td>\n",
              "    </tr>\n",
              "    <tr>\n",
              "      <th>...</th>\n",
              "      <td>...</td>\n",
              "      <td>...</td>\n",
              "      <td>...</td>\n",
              "      <td>...</td>\n",
              "      <td>...</td>\n",
              "      <td>...</td>\n",
              "      <td>...</td>\n",
              "      <td>...</td>\n",
              "      <td>...</td>\n",
              "    </tr>\n",
              "    <tr>\n",
              "      <th>13114</th>\n",
              "      <td>C Class</td>\n",
              "      <td>2020</td>\n",
              "      <td>35999</td>\n",
              "      <td>Automatic</td>\n",
              "      <td>500</td>\n",
              "      <td>Diesel</td>\n",
              "      <td>145</td>\n",
              "      <td>55.4</td>\n",
              "      <td>2.0</td>\n",
              "    </tr>\n",
              "    <tr>\n",
              "      <th>13115</th>\n",
              "      <td>B Class</td>\n",
              "      <td>2020</td>\n",
              "      <td>24699</td>\n",
              "      <td>Automatic</td>\n",
              "      <td>2500</td>\n",
              "      <td>Diesel</td>\n",
              "      <td>145</td>\n",
              "      <td>55.4</td>\n",
              "      <td>2.0</td>\n",
              "    </tr>\n",
              "    <tr>\n",
              "      <th>13116</th>\n",
              "      <td>GLC Class</td>\n",
              "      <td>2019</td>\n",
              "      <td>30999</td>\n",
              "      <td>Automatic</td>\n",
              "      <td>11612</td>\n",
              "      <td>Diesel</td>\n",
              "      <td>145</td>\n",
              "      <td>41.5</td>\n",
              "      <td>2.1</td>\n",
              "    </tr>\n",
              "    <tr>\n",
              "      <th>13117</th>\n",
              "      <td>CLS Class</td>\n",
              "      <td>2019</td>\n",
              "      <td>37990</td>\n",
              "      <td>Automatic</td>\n",
              "      <td>2426</td>\n",
              "      <td>Diesel</td>\n",
              "      <td>145</td>\n",
              "      <td>45.6</td>\n",
              "      <td>2.0</td>\n",
              "    </tr>\n",
              "    <tr>\n",
              "      <th>13118</th>\n",
              "      <td>S Class</td>\n",
              "      <td>2019</td>\n",
              "      <td>54999</td>\n",
              "      <td>Automatic</td>\n",
              "      <td>2075</td>\n",
              "      <td>Diesel</td>\n",
              "      <td>145</td>\n",
              "      <td>52.3</td>\n",
              "      <td>2.9</td>\n",
              "    </tr>\n",
              "  </tbody>\n",
              "</table>\n",
              "<p>13119 rows × 9 columns</p>\n",
              "</div>\n",
              "      <button class=\"colab-df-convert\" onclick=\"convertToInteractive('df-e3812590-63ac-4790-b2b1-356b255a509b')\"\n",
              "              title=\"Convert this dataframe to an interactive table.\"\n",
              "              style=\"display:none;\">\n",
              "        \n",
              "  <svg xmlns=\"http://www.w3.org/2000/svg\" height=\"24px\"viewBox=\"0 0 24 24\"\n",
              "       width=\"24px\">\n",
              "    <path d=\"M0 0h24v24H0V0z\" fill=\"none\"/>\n",
              "    <path d=\"M18.56 5.44l.94 2.06.94-2.06 2.06-.94-2.06-.94-.94-2.06-.94 2.06-2.06.94zm-11 1L8.5 8.5l.94-2.06 2.06-.94-2.06-.94L8.5 2.5l-.94 2.06-2.06.94zm10 10l.94 2.06.94-2.06 2.06-.94-2.06-.94-.94-2.06-.94 2.06-2.06.94z\"/><path d=\"M17.41 7.96l-1.37-1.37c-.4-.4-.92-.59-1.43-.59-.52 0-1.04.2-1.43.59L10.3 9.45l-7.72 7.72c-.78.78-.78 2.05 0 2.83L4 21.41c.39.39.9.59 1.41.59.51 0 1.02-.2 1.41-.59l7.78-7.78 2.81-2.81c.8-.78.8-2.07 0-2.86zM5.41 20L4 18.59l7.72-7.72 1.47 1.35L5.41 20z\"/>\n",
              "  </svg>\n",
              "      </button>\n",
              "      \n",
              "  <style>\n",
              "    .colab-df-container {\n",
              "      display:flex;\n",
              "      flex-wrap:wrap;\n",
              "      gap: 12px;\n",
              "    }\n",
              "\n",
              "    .colab-df-convert {\n",
              "      background-color: #E8F0FE;\n",
              "      border: none;\n",
              "      border-radius: 50%;\n",
              "      cursor: pointer;\n",
              "      display: none;\n",
              "      fill: #1967D2;\n",
              "      height: 32px;\n",
              "      padding: 0 0 0 0;\n",
              "      width: 32px;\n",
              "    }\n",
              "\n",
              "    .colab-df-convert:hover {\n",
              "      background-color: #E2EBFA;\n",
              "      box-shadow: 0px 1px 2px rgba(60, 64, 67, 0.3), 0px 1px 3px 1px rgba(60, 64, 67, 0.15);\n",
              "      fill: #174EA6;\n",
              "    }\n",
              "\n",
              "    [theme=dark] .colab-df-convert {\n",
              "      background-color: #3B4455;\n",
              "      fill: #D2E3FC;\n",
              "    }\n",
              "\n",
              "    [theme=dark] .colab-df-convert:hover {\n",
              "      background-color: #434B5C;\n",
              "      box-shadow: 0px 1px 3px 1px rgba(0, 0, 0, 0.15);\n",
              "      filter: drop-shadow(0px 1px 2px rgba(0, 0, 0, 0.3));\n",
              "      fill: #FFFFFF;\n",
              "    }\n",
              "  </style>\n",
              "\n",
              "      <script>\n",
              "        const buttonEl =\n",
              "          document.querySelector('#df-e3812590-63ac-4790-b2b1-356b255a509b button.colab-df-convert');\n",
              "        buttonEl.style.display =\n",
              "          google.colab.kernel.accessAllowed ? 'block' : 'none';\n",
              "\n",
              "        async function convertToInteractive(key) {\n",
              "          const element = document.querySelector('#df-e3812590-63ac-4790-b2b1-356b255a509b');\n",
              "          const dataTable =\n",
              "            await google.colab.kernel.invokeFunction('convertToInteractive',\n",
              "                                                     [key], {});\n",
              "          if (!dataTable) return;\n",
              "\n",
              "          const docLinkHtml = 'Like what you see? Visit the ' +\n",
              "            '<a target=\"_blank\" href=https://colab.research.google.com/notebooks/data_table.ipynb>data table notebook</a>'\n",
              "            + ' to learn more about interactive tables.';\n",
              "          element.innerHTML = '';\n",
              "          dataTable['output_type'] = 'display_data';\n",
              "          await google.colab.output.renderOutput(dataTable, element);\n",
              "          const docLink = document.createElement('div');\n",
              "          docLink.innerHTML = docLinkHtml;\n",
              "          element.appendChild(docLink);\n",
              "        }\n",
              "      </script>\n",
              "    </div>\n",
              "  </div>\n",
              "  "
            ],
            "text/plain": [
              "            model  year  price transmission  ...  fuelType  tax   mpg  engineSize\n",
              "0             SLK  2005   5200    Automatic  ...    Petrol  325  32.1         1.8\n",
              "1         S Class  2017  34948    Automatic  ...    Hybrid   20  61.4         2.1\n",
              "2        SL CLASS  2016  49948    Automatic  ...    Petrol  555  28.0         5.5\n",
              "3         G Class  2016  61948    Automatic  ...    Petrol  325  30.4         4.0\n",
              "4         G Class  2016  73948    Automatic  ...    Petrol  325  30.1         4.0\n",
              "...           ...   ...    ...          ...  ...       ...  ...   ...         ...\n",
              "13114     C Class  2020  35999    Automatic  ...    Diesel  145  55.4         2.0\n",
              "13115     B Class  2020  24699    Automatic  ...    Diesel  145  55.4         2.0\n",
              "13116   GLC Class  2019  30999    Automatic  ...    Diesel  145  41.5         2.1\n",
              "13117   CLS Class  2019  37990    Automatic  ...    Diesel  145  45.6         2.0\n",
              "13118     S Class  2019  54999    Automatic  ...    Diesel  145  52.3         2.9\n",
              "\n",
              "[13119 rows x 9 columns]"
            ]
          },
          "metadata": {},
          "execution_count": 41
        }
      ]
    },
    {
      "cell_type": "code",
      "source": [
        "ggplot(mpg, aes(x = 'price', y = 'mileage')) +\\\n",
        "geom_point() +\\\n",
        "geom_segment(aes(x = '5200', y = '6200', xend = '10000', yend = '7000'), arrow = arrow(length = (0.5, \"cm\")))"
      ],
      "metadata": {
        "id": "PoAHBKycRUDP"
      },
      "execution_count": null,
      "outputs": []
    },
    {
      "cell_type": "markdown",
      "metadata": {
        "id": "5fQWEERpc7kH"
      },
      "source": [
        "## Ещё один способ улучшить понятность графиков – выбрать правильные масштабы осей.\n",
        "## Обратите внимание на разницу между `breaks` и `labels`. Первые – это засечки на осях, а вторые – подписи у этих засечек."
      ]
    },
    {
      "cell_type": "code",
      "execution_count": null,
      "metadata": {
        "id": "a9y9t104c7kH"
      },
      "outputs": [],
      "source": [
        "ggplot(mpg, aes(\"displ\", \"hwy\")) +\\\n",
        "geom_point() +\\\n",
        "scale_y_continuous(breaks=range(15, 45, 5))"
      ]
    },
    {
      "cell_type": "markdown",
      "metadata": {
        "id": "s-XN6fzFc7kI"
      },
      "source": [
        "## Можно, например, передать в качестве 'labels' список пустых строк нужного размера."
      ]
    },
    {
      "cell_type": "code",
      "execution_count": null,
      "metadata": {
        "id": "mmn2UuVkc7kI"
      },
      "outputs": [],
      "source": [
        "def no_labels(values):\n",
        "    return [\"\"] * len(values)\n",
        "\n",
        "ggplot(mpg, aes(\"displ\", \"hwy\")) +\\\n",
        "geom_point() +\\\n",
        "scale_x_continuous(labels=no_labels) +\\\n",
        "scale_y_continuous(labels=no_labels)"
      ]
    },
    {
      "cell_type": "markdown",
      "metadata": {
        "id": "TEUGwlAlc7kI"
      },
      "source": [
        "## Можно использовать `breaks` в случае, когда у вас мало конкретных значений, и вам хочется акцентировать внимание именно на них."
      ]
    },
    {
      "cell_type": "code",
      "execution_count": null,
      "metadata": {
        "id": "-fRUiTolc7kI"
      },
      "outputs": [],
      "source": [
        "presidential[\"id\"] = 34 + presidential.index\n",
        "\n",
        "ggplot(presidential, aes(\"start\", \"id\")) +\\\n",
        "geom_point() +\\\n",
        "geom_segment(aes(xend=\"end\", yend=\"id\")) +\\\n",
        "scale_x_date(name=\"\", breaks=presidential.start, date_labels=\"'%y\")"
      ]
    },
    {
      "cell_type": "markdown",
      "metadata": {
        "id": "tAYoVFuwc7kJ"
      },
      "source": [
        "## Местоположение легенды. В целом, всё тривиально."
      ]
    },
    {
      "cell_type": "code",
      "execution_count": null,
      "metadata": {
        "id": "CqiRrY1Rc7kJ"
      },
      "outputs": [],
      "source": [
        "base = ggplot(mpg, aes(\"displ\", \"hwy\")) +\\\n",
        "geom_point(aes(colour=\"class\"))"
      ]
    },
    {
      "cell_type": "code",
      "execution_count": null,
      "metadata": {
        "id": "SF8Lfyiuc7kJ"
      },
      "outputs": [],
      "source": [
        "base + theme(legend_position=\"right\")"
      ]
    },
    {
      "cell_type": "code",
      "execution_count": null,
      "metadata": {
        "id": "JIJ5aWiFc7kJ"
      },
      "outputs": [],
      "source": [
        "base + theme(subplots_adjust={'left': 0.2}) + theme(legend_position=(0, 0.5))"
      ]
    },
    {
      "cell_type": "code",
      "execution_count": null,
      "metadata": {
        "id": "9ELMDVl8c7kK"
      },
      "outputs": [],
      "source": [
        "base + theme(legend_position=\"top\")"
      ]
    },
    {
      "cell_type": "code",
      "execution_count": null,
      "metadata": {
        "id": "IV4yqLeOc7kK"
      },
      "outputs": [],
      "source": [
        "base + theme(subplots_adjust={'bottom': 0.2}, legend_position=(.5, 0), legend_direction='horizontal')"
      ]
    },
    {
      "cell_type": "markdown",
      "metadata": {
        "id": "2BWZeQJjc7kK"
      },
      "source": [
        "## Можно вообще убрать легенду с помощью `legend_position=\"none\"`."
      ]
    },
    {
      "source": [
        "### С использованием `guides` можно настроить вид легенды ещё более детально."
      ],
      "cell_type": "markdown",
      "metadata": {
        "id": "HS88JQq_c7kK"
      }
    },
    {
      "cell_type": "code",
      "execution_count": null,
      "metadata": {
        "id": "9WSWHwW6c7kL"
      },
      "outputs": [],
      "source": [
        "ggplot(mpg, aes(\"displ\", \"hwy\")) +\\\n",
        "geom_point(aes(colour=\"class\")) +\\\n",
        "geom_smooth(se=False) +\\\n",
        "theme(legend_position=\"bottom\") +\\\n",
        "guides(colour=guide_legend(nrow=1, override_aes={\"size\": 4}))"
      ]
    },
    {
      "cell_type": "markdown",
      "metadata": {
        "id": "9N1dudELc7kL"
      },
      "source": [
        "## Масштаб и шкала осей"
      ]
    },
    {
      "cell_type": "code",
      "execution_count": null,
      "metadata": {
        "id": "zSSHeqOtc7kL"
      },
      "outputs": [],
      "source": [
        "ggplot(diamonds, aes(\"carat\", \"price\")) +\\\n",
        "geom_bin2d()"
      ]
    },
    {
      "cell_type": "code",
      "execution_count": null,
      "metadata": {
        "id": "yqeLUUBCc7kL"
      },
      "outputs": [],
      "source": [
        "ggplot(diamonds, aes(\"np.log10(carat)\", \"np.log10(price)\")) +\\\n",
        "geom_bin2d()"
      ]
    },
    {
      "cell_type": "markdown",
      "metadata": {
        "id": "lmSyKfZic7kL"
      },
      "source": [
        "## Чтобы значения на осях остались исходными можно воспользоваться переопределением осей: `scale_x_log10()` и `scale_y_log10()`."
      ]
    },
    {
      "cell_type": "code",
      "execution_count": null,
      "metadata": {
        "id": "1z-jNmnEc7kM"
      },
      "outputs": [],
      "source": [
        "ggplot(diamonds, aes(\"carat\", \"price\")) +\\\n",
        "geom_bin2d() +\\\n",
        "scale_x_log10() +\\\n",
        "scale_y_log10()"
      ]
    },
    {
      "cell_type": "markdown",
      "metadata": {
        "id": "cL_4ILUNc7kM"
      },
      "source": [
        "## Также часто переопределяют значения цветов.\n",
        "## Вот так график выглядит по умолчанию"
      ]
    },
    {
      "cell_type": "code",
      "execution_count": null,
      "metadata": {
        "id": "5989w_5fc7kM"
      },
      "outputs": [],
      "source": [
        "ggplot(mpg, aes(\"displ\", \"hwy\")) +\\\n",
        "geom_point(aes(color=\"drv\"))"
      ]
    },
    {
      "source": [
        "## А так для `palette=\"Set1\"`"
      ],
      "cell_type": "markdown",
      "metadata": {
        "id": "omS3gCALc7kM"
      }
    },
    {
      "cell_type": "code",
      "execution_count": null,
      "metadata": {
        "id": "D2JY5blzc7kN"
      },
      "outputs": [],
      "source": [
        "ggplot(mpg, aes(\"displ\", \"hwy\")) +\\\n",
        "geom_point(aes(color=\"drv\")) +\\\n",
        "scale_colour_brewer(type=\"qual\", palette=\"Set1\")"
      ]
    },
    {
      "cell_type": "markdown",
      "metadata": {
        "id": "3lCy0QHoc7kN"
      },
      "source": [
        "## А чтобы было ещё более заметно разницу, можно добавить другую форму."
      ]
    },
    {
      "cell_type": "code",
      "execution_count": null,
      "metadata": {
        "id": "-CMlwthsc7kN"
      },
      "outputs": [],
      "source": [
        "ggplot(mpg, aes(\"displ\", \"hwy\")) +\\\n",
        "geom_point(aes(color=\"drv\", shape=\"drv\")) +\\\n",
        "scale_colour_brewer(type=\"qual\", palette=\"Set1\")"
      ]
    },
    {
      "cell_type": "markdown",
      "metadata": {
        "id": "ZMvPGeSLc7kN"
      },
      "source": [
        "## Подробнее цветовые схемы описаны тут: <http://colorbrewer2.org/>."
      ]
    },
    {
      "source": [
        "## А ещё можно задать цвета вручную: `scale_colour_manual()`."
      ],
      "cell_type": "markdown",
      "metadata": {
        "id": "sBnc5C0Pc7kO"
      }
    },
    {
      "cell_type": "code",
      "execution_count": null,
      "metadata": {
        "id": "kctUyYhpc7kO"
      },
      "outputs": [],
      "source": [
        "presidential[\"id\"] = 34 + presidential.index\n",
        "\n",
        "ggplot(presidential, aes(\"start\", \"id\", colour=\"party\")) +\\\n",
        "geom_point() +\\\n",
        "geom_segment(aes(xend=\"end\", yend=\"id\")) +\\\n",
        "scale_colour_manual(values=[\"red\", \"blue\"], limits=[\"Republican\", \"Democratic\"])"
      ]
    },
    {
      "source": [
        "### \"Ну поиграйте с цветами, вы же дизайнер\""
      ],
      "cell_type": "markdown",
      "metadata": {
        "id": "1RGgPyl-c7kO"
      }
    },
    {
      "cell_type": "code",
      "execution_count": null,
      "metadata": {
        "id": "t7H9unMPc7kO"
      },
      "outputs": [],
      "source": [
        "# Type your code here..."
      ]
    },
    {
      "cell_type": "markdown",
      "metadata": {
        "id": "RG_-O8EZc7kP"
      },
      "source": [
        "## Иногда результат зависит от пределов значений на графике"
      ]
    },
    {
      "cell_type": "code",
      "execution_count": null,
      "metadata": {
        "id": "GJBCGaXsc7kP"
      },
      "outputs": [],
      "source": [
        "ggplot(mpg, aes(\"displ\", \"hwy\")) +\\\n",
        "geom_point(aes(color=\"class\")) +\\\n",
        "geom_smooth() +\\\n",
        "coord_cartesian(xlim=(5, 7), ylim=(10, 30))"
      ]
    },
    {
      "cell_type": "code",
      "execution_count": null,
      "metadata": {
        "id": "uXkCyMmcc7kP"
      },
      "outputs": [],
      "source": [
        "ggplot(mpg.query(\"5 <= displ <= 7 and 10 <= hwy <= 30\"), aes(\"displ\", \"hwy\")) +\\\n",
        "geom_point(aes(color=\"class\")) +\\\n",
        "geom_smooth()"
      ]
    },
    {
      "cell_type": "markdown",
      "metadata": {
        "id": "ksDnG34Nc7kQ"
      },
      "source": [
        "## Когда вы хотите сравнить значения двух графиков с совпадающими осями x и y, имеет смысл зафиксировать макмимальные и минимальные значения на этих осях."
      ]
    },
    {
      "cell_type": "code",
      "execution_count": null,
      "metadata": {
        "id": "LZh4pZTmc7kQ"
      },
      "outputs": [],
      "source": [
        "mpg[\"drv\"] = mpg[\"drv\"].astype(str)\n",
        "suv = mpg[mpg[\"class\"] == \"suv\"]\n",
        "compact = mpg[mpg[\"class\"] == \"compact\"]\n",
        "\n",
        "ggplot(suv, aes(\"displ\", \"hwy\", colour=\"drv\")) +\\\n",
        "geom_point()"
      ]
    },
    {
      "cell_type": "code",
      "execution_count": null,
      "metadata": {
        "id": "k0_n8Jogc7kQ"
      },
      "outputs": [],
      "source": [
        "ggplot(compact, aes(\"displ\", \"hwy\", colour=\"drv\")) +\\\n",
        "geom_point()"
      ]
    },
    {
      "cell_type": "markdown",
      "metadata": {
        "id": "01QR-kVAc7kQ"
      },
      "source": [
        "## Например, сохранив эти значения в одельную переменную."
      ]
    },
    {
      "cell_type": "code",
      "execution_count": null,
      "metadata": {
        "id": "iGOyyb0Cc7kQ"
      },
      "outputs": [],
      "source": [
        "x_scale = scale_x_continuous(limits=(mpg.displ.min(), mpg.displ.max()))\n",
        "y_scale = scale_y_continuous(limits=(mpg.hwy.min(), mpg.hwy.max()))\n",
        "col_scale = scale_colour_discrete(limits=mpg.drv.unique())\n",
        "\n",
        "ggplot(suv, aes(\"displ\", \"hwy\", colour=\"drv\")) +\\\n",
        "geom_point() +\\\n",
        "x_scale +\\\n",
        "y_scale +\\\n",
        "col_scale"
      ]
    },
    {
      "cell_type": "code",
      "execution_count": null,
      "metadata": {
        "id": "M-roYtjRc7kR"
      },
      "outputs": [],
      "source": [
        "ggplot(compact, aes(\"displ\", \"hwy\", colour=\"drv\")) +\\\n",
        "geom_point() +\\\n",
        "x_scale +\\\n",
        "y_scale +\\\n",
        "col_scale"
      ]
    },
    {
      "cell_type": "markdown",
      "metadata": {
        "id": "R9Tghl03c7kR"
      },
      "source": [
        "## Внешний вид можно менять настройкой тем"
      ]
    },
    {
      "cell_type": "code",
      "execution_count": null,
      "metadata": {
        "id": "y8INCSb5c7kR"
      },
      "outputs": [],
      "source": [
        "ggplot(mpg, aes(\"displ\", \"hwy\")) +\\\n",
        "geom_point(aes(color=\"class\")) +\\\n",
        "geom_smooth(se=False) +\\\n",
        "theme_xkcd()"
      ]
    },
    {
      "cell_type": "markdown",
      "metadata": {
        "id": "wKkcwzKic7kR"
      },
      "source": [
        "## "
      ]
    },
    {
      "source": [
        "## Сохранить последний нарисованный график можно с использованием:\n",
        "## `_.save(\"my-plot.pdf\")`\n",
        "## В качестве настроек используются: `width`, `height`, `units`, и `dpi`. "
      ],
      "cell_type": "markdown",
      "metadata": {
        "id": "wMUygXyAc7kS"
      }
    },
    {
      "source": [
        "## Если кто-то в предыдущей лабораторной не сделал творческое задание – самое время это сделать. Кто сделал – тот молодец!"
      ],
      "cell_type": "markdown",
      "metadata": {
        "id": "eEDuBTBOc7kS"
      }
    }
  ],
  "metadata": {
    "jupytext": {
      "cell_metadata_filter": "name,eval,tags,message,-all"
    },
    "kernelspec": {
      "name": "Python 3.7.6 64-bit",
      "display_name": "Python 3.7.6 64-bit",
      "metadata": {
        "interpreter": {
          "hash": "0937d353238cba4c1315d71f91b95703dbfa93444cc6d04249f4b89b873ae6b3"
        }
      }
    },
    "language_info": {
      "codemirror_mode": {
        "name": "ipython",
        "version": 3
      },
      "file_extension": ".py",
      "mimetype": "text/x-python",
      "name": "python",
      "nbconvert_exporter": "python",
      "pygments_lexer": "ipython3",
      "version": "3.7.6-final"
    },
    "colab": {
      "name": "L3_Data_Vis_Rusin_6235.ipynb",
      "provenance": [],
      "collapsed_sections": []
    }
  },
  "nbformat": 4,
  "nbformat_minor": 0
}