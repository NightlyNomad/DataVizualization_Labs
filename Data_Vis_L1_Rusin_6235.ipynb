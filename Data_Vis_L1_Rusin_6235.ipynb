{
  "nbformat": 4,
  "nbformat_minor": 0,
  "metadata": {
    "colab": {
      "name": "01_Data_Vis_Rusin_Yaroslav_6235.ipynb",
      "provenance": []
    },
    "kernelspec": {
      "name": "python3",
      "display_name": "Python 3"
    },
    "language_info": {
      "name": "python"
    }
  },
  "cells": [
    {
      "cell_type": "markdown",
      "metadata": {
        "id": "qN7KfZD2dlIQ"
      },
      "source": [
        "# Лабораторная работа № 1\n",
        "**Выполнил: Русин Ярослав, гр. 6235**\n",
        "\n",
        "## Описание работы:\n",
        "- визуализировать графики по найденному датасету;\n",
        "- графики закономерностей;\n",
        "- графики визуализации;\n",
        "---------------------------\n",
        "Link to dataset: https://www.kaggle.com/mysarahmadbhat/mercedes-used-car-listing\n",
        "\n",
        "Числовые:\n",
        "- year;\n",
        "- price;\n",
        "- mileage;\n",
        "- tax;\n",
        "- mpg;\n",
        "- engineSize;\n",
        "\n",
        "Категориальные: \n",
        "- transmission;\n",
        "- fuelType;\n",
        "\n",
        "Дополнительно:\n",
        "- model;"
      ]
    },
    {
      "cell_type": "code",
      "metadata": {
        "id": "Uom0ly68dN3f"
      },
      "source": [
        "import pandas as pd, numpy as np\n",
        "pd.set_option('display.max_columns', None)\n",
        "import matplotlib.pyplot as plt, seaborn as sns \n",
        "import warnings, sys\n",
        "if not sys.warnoptions:\n",
        "    warnings.simplefilter(\"ignore\")\n",
        "from datetime import datetime "
      ],
      "execution_count": 1,
      "outputs": []
    },
    {
      "cell_type": "code",
      "metadata": {
        "colab": {
          "base_uri": "https://localhost:8080/"
        },
        "id": "ANkvW0_6jThA",
        "outputId": "97692ebf-809b-4d4c-da94-0025d7c070ca"
      },
      "source": [
        "!unzip  /content/drive/MyDrive/Datasets/mercedes-used-car-listing.zip -d data"
      ],
      "execution_count": 2,
      "outputs": [
        {
          "output_type": "stream",
          "name": "stdout",
          "text": [
            "Archive:  /content/drive/MyDrive/Datasets/mercedes-used-car-listing.zip\n",
            "  inflating: data/merc.csv           \n"
          ]
        }
      ]
    },
    {
      "cell_type": "code",
      "metadata": {
        "colab": {
          "base_uri": "https://localhost:8080/",
          "height": 206
        },
        "id": "PHXClKlWjqm3",
        "outputId": "8113db4f-caf5-43f0-b68d-8977f03dfc93"
      },
      "source": [
        "frame = pd.read_csv('data/merc.csv')\n",
        "frame.head(5)"
      ],
      "execution_count": 3,
      "outputs": [
        {
          "output_type": "execute_result",
          "data": {
            "text/html": [
              "<div>\n",
              "<style scoped>\n",
              "    .dataframe tbody tr th:only-of-type {\n",
              "        vertical-align: middle;\n",
              "    }\n",
              "\n",
              "    .dataframe tbody tr th {\n",
              "        vertical-align: top;\n",
              "    }\n",
              "\n",
              "    .dataframe thead th {\n",
              "        text-align: right;\n",
              "    }\n",
              "</style>\n",
              "<table border=\"1\" class=\"dataframe\">\n",
              "  <thead>\n",
              "    <tr style=\"text-align: right;\">\n",
              "      <th></th>\n",
              "      <th>model</th>\n",
              "      <th>year</th>\n",
              "      <th>price</th>\n",
              "      <th>transmission</th>\n",
              "      <th>mileage</th>\n",
              "      <th>fuelType</th>\n",
              "      <th>tax</th>\n",
              "      <th>mpg</th>\n",
              "      <th>engineSize</th>\n",
              "    </tr>\n",
              "  </thead>\n",
              "  <tbody>\n",
              "    <tr>\n",
              "      <th>0</th>\n",
              "      <td>SLK</td>\n",
              "      <td>2005</td>\n",
              "      <td>5200</td>\n",
              "      <td>Automatic</td>\n",
              "      <td>63000</td>\n",
              "      <td>Petrol</td>\n",
              "      <td>325</td>\n",
              "      <td>32.1</td>\n",
              "      <td>1.8</td>\n",
              "    </tr>\n",
              "    <tr>\n",
              "      <th>1</th>\n",
              "      <td>S Class</td>\n",
              "      <td>2017</td>\n",
              "      <td>34948</td>\n",
              "      <td>Automatic</td>\n",
              "      <td>27000</td>\n",
              "      <td>Hybrid</td>\n",
              "      <td>20</td>\n",
              "      <td>61.4</td>\n",
              "      <td>2.1</td>\n",
              "    </tr>\n",
              "    <tr>\n",
              "      <th>2</th>\n",
              "      <td>SL CLASS</td>\n",
              "      <td>2016</td>\n",
              "      <td>49948</td>\n",
              "      <td>Automatic</td>\n",
              "      <td>6200</td>\n",
              "      <td>Petrol</td>\n",
              "      <td>555</td>\n",
              "      <td>28.0</td>\n",
              "      <td>5.5</td>\n",
              "    </tr>\n",
              "    <tr>\n",
              "      <th>3</th>\n",
              "      <td>G Class</td>\n",
              "      <td>2016</td>\n",
              "      <td>61948</td>\n",
              "      <td>Automatic</td>\n",
              "      <td>16000</td>\n",
              "      <td>Petrol</td>\n",
              "      <td>325</td>\n",
              "      <td>30.4</td>\n",
              "      <td>4.0</td>\n",
              "    </tr>\n",
              "    <tr>\n",
              "      <th>4</th>\n",
              "      <td>G Class</td>\n",
              "      <td>2016</td>\n",
              "      <td>73948</td>\n",
              "      <td>Automatic</td>\n",
              "      <td>4000</td>\n",
              "      <td>Petrol</td>\n",
              "      <td>325</td>\n",
              "      <td>30.1</td>\n",
              "      <td>4.0</td>\n",
              "    </tr>\n",
              "  </tbody>\n",
              "</table>\n",
              "</div>"
            ],
            "text/plain": [
              "       model  year  price transmission  mileage fuelType  tax   mpg  \\\n",
              "0        SLK  2005   5200    Automatic    63000   Petrol  325  32.1   \n",
              "1    S Class  2017  34948    Automatic    27000   Hybrid   20  61.4   \n",
              "2   SL CLASS  2016  49948    Automatic     6200   Petrol  555  28.0   \n",
              "3    G Class  2016  61948    Automatic    16000   Petrol  325  30.4   \n",
              "4    G Class  2016  73948    Automatic     4000   Petrol  325  30.1   \n",
              "\n",
              "   engineSize  \n",
              "0         1.8  \n",
              "1         2.1  \n",
              "2         5.5  \n",
              "3         4.0  \n",
              "4         4.0  "
            ]
          },
          "metadata": {},
          "execution_count": 3
        }
      ]
    },
    {
      "cell_type": "code",
      "metadata": {
        "colab": {
          "base_uri": "https://localhost:8080/",
          "height": 296
        },
        "id": "k24aNlQQkUEs",
        "outputId": "efb5a9d8-924e-41dd-aa6a-3eabb5b1ac9d"
      },
      "source": [
        "sns.set_style(\"darkgrid\") \n",
        "sns.lineplot(data=frame, x=\"year\", y=\"tax\") # размер налога относительно года "
      ],
      "execution_count": 4,
      "outputs": [
        {
          "output_type": "execute_result",
          "data": {
            "text/plain": [
              "<matplotlib.axes._subplots.AxesSubplot at 0x7ff011343510>"
            ]
          },
          "metadata": {},
          "execution_count": 4
        },
        {
          "output_type": "display_data",
          "data": {
            "image/png": "[encoded data removed]",
            "text/plain": [
              "<Figure size 432x288 with 1 Axes>"
            ]
          },
          "metadata": {}
        }
      ]
    },
    {
      "cell_type": "code",
      "metadata": {
        "id": "eWBLU293l6zy",
        "colab": {
          "base_uri": "https://localhost:8080/",
          "height": 306
        },
        "outputId": "798f7c3e-faf4-4ba1-ff23-afb95cfcf99b"
      },
      "source": [
        "pivot = frame.pivot_table(\n",
        "    index=[\"year\"],\n",
        "    columns=[\"tax\"],\n",
        "    values=\"engineSize\",\n",
        "    aggfunc=np.average)\n",
        "sns.heatmap(pivot) # размер сбора на машину в зависимости от года производства и объема двигателя"
      ],
      "execution_count": 5,
      "outputs": [
        {
          "output_type": "execute_result",
          "data": {
            "text/plain": [
              "<matplotlib.axes._subplots.AxesSubplot at 0x7ff002a55e10>"
            ]
          },
          "metadata": {},
          "execution_count": 5
        },
        {
          "output_type": "display_data",
          "data": {
            "image/png": "[encoded data removed]",
            "text/plain": [
              "<Figure size 432x288 with 2 Axes>"
            ]
          },
          "metadata": {}
        }
      ]
    },
    {
      "cell_type": "code",
      "metadata": {
        "id": "7jgPO8zj4WCj",
        "colab": {
          "base_uri": "https://localhost:8080/",
          "height": 279
        },
        "outputId": "1fc0cefe-d321-4160-e5a5-baaac4079035"
      },
      "source": [
        "sns.histplot(frame['fuelType'])\n",
        "plt.show() #число машин с популярным типом топлива на вторичном рынке"
      ],
      "execution_count": 6,
      "outputs": [
        {
          "output_type": "display_data",
          "data": {
            "image/png": "[encoded data removed]",
            "text/plain": [
              "<Figure size 432x288 with 1 Axes>"
            ]
          },
          "metadata": {}
        }
      ]
    },
    {
      "cell_type": "code",
      "metadata": {
        "id": "6YWCmHxKdkua"
      },
      "source": [
        ""
      ],
      "execution_count": null,
      "outputs": []
    }
  ]
}